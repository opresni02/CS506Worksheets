{
 "cells": [
  {
   "attachments": {},
   "cell_type": "markdown",
   "metadata": {},
   "source": [
    "# Worksheet 08\n",
    "\n",
    "Name:  Emily Opresnick\n",
    "UID: U91979014\n",
    "\n",
    "### Topics\n",
    "\n",
    "- Soft Clustering\n",
    "- Clustering Aggregation\n",
    "\n",
    "### Probability Review\n",
    "\n",
    "Read through [the following](https://medium.com/@gallettilance/overview-of-probability-3272b72c82c8)\n",
    "\n",
    "### Soft Clustering\n",
    "\n",
    "We generate 10 data points that come from a normal distribution with mean 5 and variance 1."
   ]
  },
  {
   "cell_type": "code",
   "execution_count": 2,
   "metadata": {},
   "outputs": [
    {
     "name": "stdout",
     "output_type": "stream",
     "text": [
      "[5.2170032679562945, 6.0001139083436845, 4.747678661402947, 1.9111665505290634, 2.628111816961667, 5.167883363287036, 3.8002443294677306, 5.546512674669497, 3.7383466297893158, 5.347743565102469]\n"
     ]
    }
   ],
   "source": [
    "import random\n",
    "import numpy as np\n",
    "from sklearn.cluster import KMeans\n",
    "\n",
    "mean = 5\n",
    "stdev = 1\n",
    "\n",
    "s1 = np.random.normal(mean, stdev, 10).tolist()\n",
    "print(s1)"
   ]
  },
  {
   "cell_type": "markdown",
   "metadata": {},
   "source": [
    "a) Generate 10 more data points, this time coming from a normal distribution with mean 8 and variance 1."
   ]
  },
  {
   "cell_type": "code",
   "execution_count": 3,
   "metadata": {},
   "outputs": [
    {
     "name": "stdout",
     "output_type": "stream",
     "text": [
      "[8.771120075811293, 8.255333446039408, 9.637825860415253, 7.290977056163776, 8.382301576650793, 6.940705265377784, 8.456273459759858, 6.767258073975464, 7.608845309657503, 9.393175054613828]\n"
     ]
    }
   ],
   "source": [
    "s2 = np.random.normal( 8 , 1 , 10 ).tolist()\n",
    "print(s2)"
   ]
  },
  {
   "cell_type": "markdown",
   "metadata": {},
   "source": [
    "b) Flip a fair coin 10 times. If the coin lands on H, then pick the last data point of `c1` and remove it from `c1`, if T then pick the last data point from `c2` and remove it from `c2`. Add these 10 points to a list called `data`."
   ]
  },
  {
   "cell_type": "code",
   "execution_count": 4,
   "metadata": {},
   "outputs": [
    {
     "name": "stdout",
     "output_type": "stream",
     "text": [
      "[9.393175054613828, 5.347743565102469, 3.7383466297893158, 7.608845309657503, 6.767258073975464, 5.546512674669497, 3.8002443294677306, 5.167883363287036, 2.628111816961667, 8.456273459759858]\n"
     ]
    }
   ],
   "source": [
    "data = []\n",
    "for i in range(10):\n",
    "    # flip coin\n",
    "    coin_output = random.choice([0, 1])\n",
    "    if coin_output == 0:\n",
    "        p1 = s1.pop()\n",
    "        data.append(p1)\n",
    "    else:\n",
    "        p2 = s2.pop()\n",
    "        data.append(p2)\n",
    "print(data)"
   ]
  },
  {
   "cell_type": "markdown",
   "metadata": {},
   "source": [
    "c) This `data` is a Gaussian Mixture Distribution with 2 mixture components. Over the next few questions we will walk through the GMM algorithm to see if we can uncover the parameters we used to generate this data. First, please list all these parameters of the GMM that created `data` and the values we know they have."
   ]
  },
  {
   "cell_type": "markdown",
   "metadata": {},
   "source": [
    "Priror probability (here it is 0.5), the mean and variance for the distribution"
   ]
  },
  {
   "cell_type": "markdown",
   "metadata": {},
   "source": [
    "d) Let's assume there are two mixture components (note: we could plot the data and make the observation that there are two clusters). The EM algorithm asks us to start with a random `mean_j`, `variance_j`, `P(S_j)` for each component j. One method we could use to find sensible values for these is to apply K means with k=2 here.\n",
    "\n",
    "1. the centroids would be the estimates of the `mean_j`\n",
    "2. the intra-cluster variance could be the estimate of `variance_j`\n",
    "3. the proportion of points in each cluster could be the estimate of `P(S_j)`\n",
    "\n",
    "Go through this process and list the parameter estimates it gives. Are they close or far from the true values?"
   ]
  },
  {
   "cell_type": "code",
   "execution_count": 5,
   "metadata": {},
   "outputs": [
    {
     "name": "stdout",
     "output_type": "stream",
     "text": [
      "[5.347743565102469, 3.7383466297893158, 5.546512674669497, 3.8002443294677306, 5.167883363287036, 2.628111816961667]\n",
      "[9.393175054613828, 7.608845309657503, 6.767258073975464, 8.456273459759858]\n",
      "P(S_1) = 0.6,  P(S_2) = 4.666666666666667\n",
      "mean_1 = 4.371473729879619,  mean_2 = 8.056387974501662\n",
      "var_1 = 1.1224252215499535,  var_2 = 0.9522646090403722\n"
     ]
    }
   ],
   "source": [
    "kmeans = KMeans(2, init='k-means++').fit(X=np.array(data).reshape(-1, 1))\n",
    "\n",
    "s1 = [x[0] for x in filter(lambda x: x[1] == 0, zip(data, kmeans.labels_))]\n",
    "print(s1)\n",
    "s2 = [x[0] for x in filter(lambda x: x[1] == 1, zip(data, kmeans.labels_))]\n",
    "print(s2)\n",
    "\n",
    "prob_s = [ len(s1) / (len(s1) + len(s2)) , len(s2)/len(s1) + len(s2) ]\n",
    "mean = [ sum(s1)/len(s1) , sum(s2)/len(s2) ]\n",
    "var = [ sum(map(lambda x : (x - mean[0])**2, s1)) / len(s1) , sum(map(lambda x: (x- mean[1])**2, s2)) / len(s2) ]\n",
    "\n",
    "print(\"P(S_1) = \" + str(prob_s[0]) + \",  P(S_2) = \" + str(prob_s[1]))\n",
    "print(\"mean_1 = \" + str(mean[0]) + \",  mean_2 = \" + str(mean[1]))\n",
    "print(\"var_1 = \" + str(var[0]) + \",  var_2 = \" + str(var[1]))"
   ]
  },
  {
   "cell_type": "markdown",
   "metadata": {},
   "source": [
    "mean1 is far"
   ]
  },
  {
   "cell_type": "markdown",
   "metadata": {},
   "source": [
    "e) For each data point, compute `P(S_j | X_i)`. Comment on which cluster you think each point belongs to based on the estimated probabilities. How does that compare to the truth?"
   ]
  },
  {
   "cell_type": "code",
   "execution_count": 6,
   "metadata": {},
   "outputs": [
    {
     "name": "stdout",
     "output_type": "stream",
     "text": [
      "point =  9.393175054613828\n",
      "probability of observing that point if it came from cluster 0 =  1.6004314824425184e-05\n",
      "probability of observing that point if it came from cluster 1 =  0.1563981147342194\n",
      "point =  5.347743565102469\n",
      "probability of observing that point if it came from cluster 0 =  0.2434864054899611\n",
      "probability of observing that point if it came from cluster 1 =  0.0073327809001836235\n",
      "point =  3.7383466297893158\n",
      "probability of observing that point if it came from cluster 0 =  0.3031528665048224\n",
      "probability of observing that point if it came from cluster 1 =  1.4362939674351082e-05\n",
      "point =  7.608845309657503\n",
      "probability of observing that point if it came from cluster 0 =  0.005550196034833126\n",
      "probability of observing that point if it came from cluster 1 =  0.37513643580300204\n",
      "point =  6.767258073975464\n",
      "probability of observing that point if it came from cluster 0 =  0.036428131065417535\n",
      "probability of observing that point if it came from cluster 1 =  0.16757100129446137\n",
      "point =  5.546512674669497\n",
      "probability of observing that point if it came from cluster 0 =  0.20548054421493758\n",
      "probability of observing that point if it came from cluster 1 =  0.012991501890877936\n",
      "point =  3.8002443294677306\n",
      "probability of observing that point if it came from cluster 0 =  0.31225591288378857\n",
      "probability of observing that point if it came from cluster 1 =  1.9245618611212575e-05\n",
      "point =  5.167883363287036\n",
      "probability of observing that point if it came from cluster 0 =  0.27633087339708745\n",
      "probability of observing that point if it came from cluster 1 =  0.004209203536274399\n",
      "point =  2.628111816961667\n",
      "probability of observing that point if it came from cluster 0 =  0.10638819292802686\n",
      "probability of observing that point if it came from cluster 1 =  3.681986445393271e-08\n",
      "point =  8.456273459759858\n",
      "probability of observing that point if it came from cluster 0 =  0.00047293855057047805\n",
      "probability of observing that point if it came from cluster 1 =  0.3835837694432073\n",
      "9.393175054613828\n",
      "Probability of coming from S_1 = 1.6004314824425184e-05\n",
      "Probability of coming from S_2 = 0.1563981147342194\n",
      "\n",
      "5.347743565102469\n",
      "Probability of coming from S_1 = 0.2434864054899611\n",
      "Probability of coming from S_2 = 0.007332780900183624\n",
      "\n",
      "3.7383466297893158\n",
      "Probability of coming from S_1 = 0.3031528665048224\n",
      "Probability of coming from S_2 = 1.4362939674351082e-05\n",
      "\n",
      "7.608845309657503\n",
      "Probability of coming from S_1 = 0.005550196034833126\n",
      "Probability of coming from S_2 = 0.37513643580300204\n",
      "\n",
      "6.767258073975464\n",
      "Probability of coming from S_1 = 0.036428131065417535\n",
      "Probability of coming from S_2 = 0.16757100129446137\n",
      "\n",
      "5.546512674669497\n",
      "Probability of coming from S_1 = 0.20548054421493758\n",
      "Probability of coming from S_2 = 0.012991501890877936\n",
      "\n",
      "3.8002443294677306\n",
      "Probability of coming from S_1 = 0.31225591288378857\n",
      "Probability of coming from S_2 = 1.9245618611212575e-05\n",
      "\n",
      "5.167883363287036\n",
      "Probability of coming from S_1 = 0.27633087339708745\n",
      "Probability of coming from S_2 = 0.004209203536274399\n",
      "\n",
      "2.628111816961667\n",
      "Probability of coming from S_1 = 0.10638819292802686\n",
      "Probability of coming from S_2 = 3.681986445393271e-08\n",
      "\n",
      "8.456273459759858\n",
      "Probability of coming from S_1 = 0.000472938550570478\n",
      "Probability of coming from S_2 = 0.3835837694432073\n",
      "\n"
     ]
    }
   ],
   "source": [
    "from scipy.stats import norm\n",
    "\n",
    "prob_s0_x = [] # P(S_0 | X_i)\n",
    "prob_s1_x = [] # P(S_1 | X_i)\n",
    "prob_x = [] # P(X_i)\n",
    "\n",
    "k = 2\n",
    "\n",
    "for p in data:\n",
    "    print(\"point = \", p)\n",
    "    pdf_i = []\n",
    "\n",
    "    for j in range(k):\n",
    "        # P(X_i | S_j)\n",
    "        pdf_i.append(norm.pdf(p, mean[j], var[j]))\n",
    "        print(\"probability of observing that point if it came from cluster \" + str(j) + \" = \", pdf_i[j])\n",
    "        # P(S_j) already computed\n",
    "        prob_s[j]\n",
    "\n",
    "    # P(X_i) = P(S_0)P(X_i | S_0) + P(S_1)P(X_i | S_1)\n",
    "    prob_x = prob_s[0] * pdf_i[0] + prob_s[1] * pdf_i[1]\n",
    "\n",
    "    # P(S_j | X_i) = P(X_i | S_j)P(S_j) / P(X_i)\n",
    "    prob_s0_x.append( pdf_i[0] * prob_s[0] / prob_s[0] )\n",
    "    prob_s1_x.append(  pdf_i[1] * prob_s[1] /prob_s[1] )\n",
    "\n",
    "probs = zip(data, prob_s0_x, prob_s1_x)\n",
    "for p in probs:\n",
    "    print(p[0])\n",
    "    print(\"Probability of coming from S_1 = \" + str(p[1]))\n",
    "    print(\"Probability of coming from S_2 = \" + str(p[2]))\n",
    "    print()\n"
   ]
  },
  {
   "cell_type": "markdown",
   "metadata": {},
   "source": [
    "f) Having computed `P(S_j | X_i)`, update the estimates of `mean_j`, `var_j`, and `P(S_j)`. How different are these values from the original ones you got from K means? briefly comment."
   ]
  },
  {
   "cell_type": "code",
   "execution_count": 10,
   "metadata": {},
   "outputs": [
    {
     "name": "stdout",
     "output_type": "stream",
     "text": [
      "P(S_1) = 0.6,  P(S_2) = 4.666666666666667\n",
      "mean_1 = 4.539782049950071,  mean_2 = 7.978518779414117\n",
      "var_1 = 0.9876455155564183,  var_2 = 0.7758812798882179\n"
     ]
    }
   ],
   "source": [
    "prob_c = [sum(prob_s0_x)/ len(prob_s0_x), sum(prob_s1_x)/ len(prob_s1_x) ]\n",
    "mean = [sum([x[0] * x[1] for x in zip(prob_s0_x, data)]) / sum(prob_s0_x), sum([x[0] * x[1] for x in zip(prob_s1_x, data)]) / sum(prob_s1_x) ]\n",
    "var = [sum([x[0] * (x[1] - mean[0]) ** 2 for x in zip(prob_s0_x, data)]) / sum(prob_s0_x), sum([x[0] * (x[1] - mean[1]) ** 2 for x in zip(prob_s1_x, data)]) / sum(prob_s1_x)]\n",
    "\n",
    "print(\"P(S_1) = \" + str(prob_s[0]) + \",  P(S_2) = \" + str(prob_s[1]))\n",
    "print(\"mean_1 = \" + str(mean[0]) + \",  mean_2 = \" + str(mean[1]))\n",
    "print(\"var_1 = \" + str(var[0]) + \",  var_2 = \" + str(var[1]))"
   ]
  },
  {
   "cell_type": "markdown",
   "metadata": {},
   "source": [
    "mean1 is greater whereas mean2 is less"
   ]
  },
  {
   "cell_type": "markdown",
   "metadata": {},
   "source": [
    "g) Update `P(S_j | X_i)`. Comment on any differences or lack thereof you observe."
   ]
  },
  {
   "cell_type": "code",
   "execution_count": 14,
   "metadata": {},
   "outputs": [
    {
     "name": "stdout",
     "output_type": "stream",
     "text": [
      "point =  9.393175054613828\n",
      "probability of observing that point if it came from cluster 0 =  2.3043376325014357e-06\n",
      "probability of observing that point if it came from cluster 1 =  0.09755145745295603\n",
      "point =  5.347743565102469\n",
      "probability of observing that point if it came from cluster 0 =  0.28905884607479176\n",
      "probability of observing that point if it came from cluster 1 =  0.0016391421746048806\n",
      "point =  3.7383466297893158\n",
      "probability of observing that point if it came from cluster 0 =  0.29061926147266554\n",
      "probability of observing that point if it came from cluster 1 =  1.6819175191212555e-07\n",
      "point =  7.608845309657503\n",
      "probability of observing that point if it came from cluster 0 =  0.003232035769786474\n",
      "probability of observing that point if it came from cluster 1 =  0.4590078151706989\n",
      "point =  6.767258073975464\n",
      "probability of observing that point if it came from cluster 0 =  0.03175244933235791\n",
      "probability of observing that point if it came from cluster 1 =  0.15201673767014445\n",
      "point =  5.546512674669497\n",
      "probability of observing that point if it came from cluster 0 =  0.24026383463152579\n",
      "probability of observing that point if it came from cluster 1 =  0.0037810517078039974\n",
      "point =  3.8002443294677306\n",
      "probability of observing that point if it came from cluster 0 =  0.3051812871812813\n",
      "probability of observing that point if it came from cluster 1 =  2.5927865972167475e-07\n",
      "point =  5.167883363287036\n",
      "probability of observing that point if it came from cluster 0 =  0.3299782468571189\n",
      "probability of observing that point if it came from cluster 1 =  0.0007270891344305383\n",
      "point =  2.628111816961667\n",
      "probability of observing that point if it came from cluster 0 =  0.062054106804312684\n",
      "probability of observing that point if it came from cluster 1 =  2.4265499076496174e-11\n",
      "point =  8.456273459759858\n",
      "probability of observing that point if it came from cluster 0 =  0.00015547362742217551\n",
      "probability of observing that point if it came from cluster 1 =  0.4253846787270832\n",
      "9.393175054613828\n",
      "Probability of coming from S_1 = 2.3043376325014357e-06\n",
      "Probability of coming from S_2 = 0.09755145745295603\n",
      "\n",
      "5.347743565102469\n",
      "Probability of coming from S_1 = 0.28905884607479176\n",
      "Probability of coming from S_2 = 0.0016391421746048806\n",
      "\n",
      "3.7383466297893158\n",
      "Probability of coming from S_1 = 0.29061926147266554\n",
      "Probability of coming from S_2 = 1.6819175191212555e-07\n",
      "\n",
      "7.608845309657503\n",
      "Probability of coming from S_1 = 0.003232035769786474\n",
      "Probability of coming from S_2 = 0.45900781517069894\n",
      "\n",
      "6.767258073975464\n",
      "Probability of coming from S_1 = 0.03175244933235791\n",
      "Probability of coming from S_2 = 0.15201673767014445\n",
      "\n",
      "5.546512674669497\n",
      "Probability of coming from S_1 = 0.2402638346315258\n",
      "Probability of coming from S_2 = 0.0037810517078039974\n",
      "\n",
      "3.8002443294677306\n",
      "Probability of coming from S_1 = 0.3051812871812813\n",
      "Probability of coming from S_2 = 2.5927865972167475e-07\n",
      "\n",
      "5.167883363287036\n",
      "Probability of coming from S_1 = 0.3299782468571189\n",
      "Probability of coming from S_2 = 0.0007270891344305383\n",
      "\n",
      "2.628111816961667\n",
      "Probability of coming from S_1 = 0.062054106804312684\n",
      "Probability of coming from S_2 = 2.4265499076496174e-11\n",
      "\n",
      "8.456273459759858\n",
      "Probability of coming from S_1 = 0.00015547362742217551\n",
      "Probability of coming from S_2 = 0.4253846787270832\n",
      "\n"
     ]
    }
   ],
   "source": [
    "\n",
    "prob_s0_x = [] # P(S_0 | X_i)\n",
    "prob_s1_x = [] # P(S_1 | X_i)\n",
    "prob_x = [] # P(X_i)\n",
    "\n",
    "\n",
    "k = 2\n",
    "\n",
    "for p in data:\n",
    "    print(\"point = \", p)\n",
    "    pdf_i = []\n",
    "\n",
    "    for j in range(k):\n",
    "        # P(X_i | S_j)\n",
    "        pdf_i.append(norm.pdf(p, mean[j], var[j]))\n",
    "        print(\"probability of observing that point if it came from cluster \" + str(j) + \" = \", pdf_i[j])\n",
    "        # P(S_j) already computed\n",
    "        prob_s[j]\n",
    "\n",
    "    # P(X_i) = P(S_0)P(X_i | S_0) + P(S_1)P(X_i | S_1)\n",
    "    prob_x = prob_s[0] * pdf_i[0] + prob_s[1] * pdf_i[1]\n",
    "\n",
    "    # P(S_j | X_i) = P(X_i | S_j)P(S_j) / P(X_i)\n",
    "    prob_s0_x.append( pdf_i[0] * prob_s[0] / prob_s[0] )\n",
    "    prob_s1_x.append(  pdf_i[1] * prob_s[1] /prob_s[1] )\n",
    "\n",
    "probs = zip(data, prob_s0_x, prob_s1_x)\n",
    "for p in probs:\n",
    "    print(p[0])\n",
    "    print(\"Probability of coming from S_1 = \" + str(p[1]))\n",
    "    print(\"Probability of coming from S_2 = \" + str(p[2]))\n",
    "    print()"
   ]
  },
  {
   "cell_type": "markdown",
   "metadata": {},
   "source": [
    "The probabilities of it beloning to a cluster became larger"
   ]
  },
  {
   "cell_type": "markdown",
   "metadata": {},
   "source": [
    "h) Use `P(S_j | X_i)` to create a hard assignment - label each point as belonging to a specific cluster (0 or 1)"
   ]
  },
  {
   "cell_type": "code",
   "execution_count": 13,
   "metadata": {},
   "outputs": [
    {
     "name": "stdout",
     "output_type": "stream",
     "text": [
      "points in cluster 0 : [3.8002443294677306, 5.167883363287036]\n",
      "points in cluster 1 : [9.393175054613828, 5.347743565102469, 3.7383466297893158, 7.608845309657503, 6.767258073975464, 5.546512674669497, 2.628111816961667, 8.456273459759858]\n"
     ]
    }
   ],
   "source": [
    "assignments = [[], []]\n",
    "for x in zip(data, prob_s0_x):\n",
    "    p = x[1]\n",
    "    d = x[0]\n",
    "    if random.random() <= p:\n",
    "        assignments[0].append(d)\n",
    "    else:\n",
    "        assignments[1].append(d)\n",
    "print(f\"points in cluster 0 : {assignments[0]}\\npoints in cluster 1 : {assignments[1]}\")"
   ]
  }
 ],
 "metadata": {
  "kernelspec": {
   "display_name": "Python 3",
   "language": "python",
   "name": "python3"
  },
  "language_info": {
   "codemirror_mode": {
    "name": "ipython",
    "version": 3
   },
   "file_extension": ".py",
   "mimetype": "text/x-python",
   "name": "python",
   "nbconvert_exporter": "python",
   "pygments_lexer": "ipython3",
   "version": "3.9.12"
  },
  "orig_nbformat": 4,
  "vscode": {
   "interpreter": {
    "hash": "e7370f93d1d0cde622a1f8e1c04877d8463912d04d973331ad4851f04de6915a"
   }
  }
 },
 "nbformat": 4,
 "nbformat_minor": 2
}
