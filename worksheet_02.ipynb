{
 "cells": [
  {
   "attachments": {},
   "cell_type": "markdown",
   "metadata": {},
   "source": [
    "# Worksheet 02\n",
    "\n",
    "Name:  Emily Opresnick\n",
    "UID: U91979014\n",
    "\n",
    "### Topics\n",
    "\n",
    "- Effective Programming\n",
    "\n",
    "### Effective Programming\n",
    "\n",
    "a) What is a drawback of the top down approach?"
   ]
  },
  {
   "cell_type": "markdown",
   "metadata": {},
   "source": [
    "You dont have runable code until the end."
   ]
  },
  {
   "cell_type": "markdown",
   "metadata": {},
   "source": [
    "b) What is a drawback of the bottom up approach?"
   ]
  },
  {
   "cell_type": "markdown",
   "metadata": {},
   "source": [
    "You have to know everything upfront in order to implement all neccessary functions before the big picture. This could mean implementing functions you do not need."
   ]
  },
  {
   "cell_type": "markdown",
   "metadata": {},
   "source": [
    "c) What are 3 things you can do to have a better debugging experience?"
   ]
  },
  {
   "cell_type": "markdown",
   "metadata": {},
   "source": [
    "Re read your code, keep your code simple, take breaks"
   ]
  },
  {
   "cell_type": "code",
   "execution_count": null,
   "metadata": {},
   "outputs": [],
   "source": []
  },
  {
   "attachments": {},
   "cell_type": "markdown",
   "metadata": {},
   "source": [
    "d) Follow along with the live coding. You can write your code here:"
   ]
  },
  {
   "cell_type": "code",
   "execution_count": 14,
   "metadata": {},
   "outputs": [
    {
     "name": "stdout",
     "output_type": "stream",
     "text": [
      "inital board: \n",
      "_ _ _ _ _ _ _ _ \n",
      "_ _ _ _ _ _ _ _ \n",
      "_ _ _ _ _ _ _ _ \n",
      "_ _ _ _ _ _ _ _ \n",
      "_ _ _ _ _ _ _ _ \n",
      "_ _ _ _ _ _ _ _ \n",
      "_ _ _ _ _ _ _ _ \n",
      "_ _ _ _ _ _ _ _ \n",
      "\n",
      "found solution: \n",
      "Q _ _ _ _ _ _ _ \n",
      "_ _ _ _ Q _ _ _ \n",
      "_ _ _ _ _ _ _ Q \n",
      "_ _ _ _ _ Q _ _ \n",
      "_ _ Q _ _ _ _ _ \n",
      "_ _ _ _ _ _ Q _ \n",
      "_ Q _ _ _ _ _ _ \n",
      "_ _ _ Q _ _ _ _ \n",
      "\n"
     ]
    }
   ],
   "source": [
    "class Board:\n",
    "    def __init__(self):\n",
    "        # self.boardSize = 8\n",
    "        self.board = [[\"_\" for _ in range(8)] for _ in range(8)]\n",
    "        self.blank = \".\"\n",
    "        self.queen = \"Q\"\n",
    "    \n",
    "    def __repr__(self):\n",
    "        res = \"\"\n",
    "        for row in self.board:\n",
    "            for col in row:\n",
    "                res += col\n",
    "                res += \" \"\n",
    "            res +=  \"\\n\"\n",
    "        return res\n",
    "    \n",
    "    def isLegalRow(self, row):\n",
    "        for j in range(len(self.board)):\n",
    "            if self.board[row][j] == \"Q\":\n",
    "                return False\n",
    "        return True\n",
    "    \n",
    "    def isLegalCol(self, col):\n",
    "        for i in range(len(self.board)):\n",
    "            if self.board[i][col] == \"Q\":\n",
    "                return False\n",
    "        return True\n",
    "    \n",
    "    def isOnBoard(self, row, col):\n",
    "        return row >= 0 and row < 8 and col >= 0 and col < 8\n",
    "    \n",
    "    def isLegalDiag(self, row, col):\n",
    "        for i in range(len(self.board)):\n",
    "            if self.isOnBoard(row - i, col - i) and self.board[row - i][col - i] == \"Q\":\n",
    "                    return False\n",
    "            if self.isOnBoard(row + i, col + i) and  self.board[row + i][col + i] == \"Q\":\n",
    "                    return False\n",
    "            if self.isOnBoard(row + i, col - i) and self.board[row + i][col - i] == \"Q\":\n",
    "                    return False\n",
    "            if self.isOnBoard(row - i, col + i) and self.board[row - i][col + i] == \"Q\":\n",
    "                    return False\n",
    "        return True\n",
    "            \n",
    "    def isLegal(self, row, col):\n",
    "        if not self.isLegalRow(row):\n",
    "            return False\n",
    "        if not self.isLegalCol(col):\n",
    "            return False\n",
    "        if not self.isLegalDiag(row, col):\n",
    "            return False\n",
    "        return True\n",
    "    \n",
    "    def setQueenAt(self, row, col):\n",
    "        self.board[row][col] = \"Q\"\n",
    "\n",
    "    def unsetQueenOn(self, row):\n",
    "        self.board[row]= [\"_\" for _ in range(8)]\n",
    "\n",
    "    def getQueenOn(self, row):\n",
    "        for col in range(len(self.board)):\n",
    "            if self.board[row][col] == \"Q\":\n",
    "                return col\n",
    "        raise ValueError(\"programmer error: no queen on row\")\n",
    "\n",
    "\n",
    "    def search(self):\n",
    "        row = 0 \n",
    "        col = 0\n",
    "        while row < 8:\n",
    "            if self.isLegal(row,col):\n",
    "                self.setQueenAt(row,col)\n",
    "                row += 1\n",
    "                col = 0\n",
    "            else:\n",
    "                col += 1\n",
    "                while col >= 8:\n",
    "                    col = self.getQueenOn(row - 1)\n",
    "                    self.unsetQueenOn(row - 1)\n",
    "                    col += 1\n",
    "                    row -= 1\n",
    "        print(\"found solution: \")\n",
    "        print(self)\n",
    "\n",
    "\n",
    "my_board = Board()\n",
    "print(\"inital board: \")\n",
    "print(my_board)\n",
    "my_board.search()\n",
    "    \n",
    "\n",
    "\n",
    "\n"
   ]
  }
 ],
 "metadata": {
  "kernelspec": {
   "display_name": "Python 3",
   "language": "python",
   "name": "python3"
  },
  "language_info": {
   "codemirror_mode": {
    "name": "ipython",
    "version": 3
   },
   "file_extension": ".py",
   "mimetype": "text/x-python",
   "name": "python",
   "nbconvert_exporter": "python",
   "pygments_lexer": "ipython3",
   "version": "3.9.12"
  },
  "orig_nbformat": 4,
  "vscode": {
   "interpreter": {
    "hash": "76ca05dc3ea24b2e3b98cdb7774adfbb40773424bf5109b477fd793f623715af"
   }
  }
 },
 "nbformat": 4,
 "nbformat_minor": 2
}
